{
 "cells": [
  {
   "cell_type": "code",
   "execution_count": 46,
   "id": "b8a2b2ae-1990-46f5-b5d2-be3051d5f98c",
   "metadata": {},
   "outputs": [],
   "source": [
    "# 线性点运算\n",
    "import cv2\n",
    "\n",
    "image = cv2.imread('gray_image.png', cv2.IMREAD_GRAYSCALE)\n",
    "\n",
    "linear_image = image * 2\n",
    "\n",
    "cv2.imshow('Linear Point Operation', linear_image)\n",
    "cv2.waitKey(0)\n",
    "cv2.destroyAllWindows()"
   ]
  },
  {
   "cell_type": "code",
   "execution_count": 45,
   "id": "8e89e0c4-0414-41b6-826a-d1a6a93aacf1",
   "metadata": {},
   "outputs": [],
   "source": [
    "# 分段线性点运算\n",
    "import cv2\n",
    "import numpy as np\n",
    "\n",
    "image = cv2.imread('gray_image.png', cv2.IMREAD_GRAYSCALE)\n",
    "\n",
    "segmented_image = np.where(image < 128, image * 2, image - 128)\n",
    "\n",
    "cv2.imshow('Segmented Linear Point Operation', segmented_image)\n",
    "cv2.waitKey(0)\n",
    "cv2.destroyAllWindows()"
   ]
  },
  {
   "cell_type": "code",
   "execution_count": 49,
   "id": "521f7fee-9870-447d-9c6a-8416321a1ed1",
   "metadata": {},
   "outputs": [],
   "source": [
    "# 非线性点运算（平方根变换）\n",
    "import cv2\n",
    "import numpy as np\n",
    "\n",
    "image = cv2.imread('gray_image.png', cv2.IMREAD_GRAYSCALE)\n",
    "\n",
    "nonlinear_image = np.sqrt(image)\n",
    "\n",
    "nonlinear_image = nonlinear_image.astype(np.uint8)\n",
    "\n",
    "cv2.imshow('Nonlinear Point Operation', nonlinear_image)\n",
    "cv2.waitKey(0)\n",
    "cv2.destroyAllWindows()"
   ]
  },
  {
   "cell_type": "code",
   "execution_count": null,
   "id": "0b07e94c-de5b-4d2b-be89-cad2c4f891e8",
   "metadata": {},
   "outputs": [],
   "source": []
  }
 ],
 "metadata": {
  "kernelspec": {
   "display_name": "Python 3 (ipykernel)",
   "language": "python",
   "name": "python3"
  },
  "language_info": {
   "codemirror_mode": {
    "name": "ipython",
    "version": 3
   },
   "file_extension": ".py",
   "mimetype": "text/x-python",
   "name": "python",
   "nbconvert_exporter": "python",
   "pygments_lexer": "ipython3",
   "version": "3.9.8"
  }
 },
 "nbformat": 4,
 "nbformat_minor": 5
}

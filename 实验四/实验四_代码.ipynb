{
 "cells": [
  {
   "cell_type": "code",
   "execution_count": 10,
   "id": "b7b130a3-409e-433e-bf0d-e07c8be05eeb",
   "metadata": {
    "collapsed": true,
    "jupyter": {
     "outputs_hidden": true
    },
    "tags": []
   },
   "outputs": [
    {
     "name": "stdout",
     "output_type": "stream",
     "text": [
      "Otsu Accuracy: 0.00%\n",
      "Iterative Accuracy: 0.00%\n"
     ]
    },
    {
     "name": "stderr",
     "output_type": "stream",
     "text": [
      "C:\\Users\\HP\\AppData\\Local\\Temp\\ipykernel_8628\\212172986.py:63: DeprecationWarning: elementwise comparison failed; this will raise an error in the future.\n",
      "  otsu_accuracy = np.mean(otsu_result == ground_truth)\n",
      "C:\\Users\\HP\\AppData\\Local\\Temp\\ipykernel_8628\\212172986.py:64: DeprecationWarning: elementwise comparison failed; this will raise an error in the future.\n",
      "  iterative_accuracy = np.mean(iterative_result == ground_truth)\n"
     ]
    }
   ],
   "source": [
    "import cv2\n",
    "import numpy as np\n",
    "\n",
    "def otsu_threshold(image):\n",
    "    gray_image = cv2.cvtColor(image, cv2.COLOR_BGR2GRAY)\n",
    "    \n",
    "    _, thresholded_image = cv2.threshold(gray_image, 0, 255, cv2.THRESH_BINARY + cv2.THRESH_OTSU)\n",
    "    \n",
    "    return thresholded_image\n",
    "\n",
    "def iterative_threshold(image, initial_threshold):\n",
    "    gray_image = cv2.cvtColor(image, cv2.COLOR_BGR2GRAY)\n",
    "    \n",
    "    threshold = initial_threshold\n",
    "    \n",
    "    while True:\n",
    "        \n",
    "        _, thresholded_image = cv2.threshold(gray_image, threshold, 255, cv2.THRESH_BINARY)\n",
    "        \n",
    "        foreground_mean = np.mean(gray_image[thresholded_image == 255])\n",
    "        background_mean = np.mean(gray_image[thresholded_image == 0])\n",
    "        \n",
    "        new_threshold = int((foreground_mean + background_mean) / 2)\n",
    "        \n",
    "        if abs(new_threshold - threshold) <= 1:\n",
    "            break\n",
    "        \n",
    "        threshold = new_threshold\n",
    "    \n",
    "    return thresholded_image\n",
    "\n",
    "image = cv2.imread('image.png')\n",
    "\n",
    "otsu_result = otsu_threshold(image)\n",
    "\n",
    "initial_threshold = 128  # 初始阈值\n",
    "iterative_result = iterative_threshold(image, initial_threshold)\n",
    "\n",
    "cv2.imshow('Original Image', image)\n",
    "cv2.imshow('Otsu Result', otsu_result)\n",
    "cv2.imshow('Iterative Result', iterative_result)\n",
    "cv2.waitKey(0)\n",
    "cv2.destroyAllWindows()\n",
    "\n",
    "otsu_result = otsu_result.astype(np.uint8)\n",
    "iterative_result = iterative_result.astype(np.uint8)\n",
    "ground_truth = ground_truth.astype(np.uint8)\n",
    "\n",
    "ground_truth = cv2.imread('ground_truth.png', cv2.IMREAD_GRAYSCALE)\n",
    "\n",
    "otsu_accuracy = np.mean(otsu_result == ground_truth)\n",
    "iterative_accuracy = np.mean(iterative_result == ground_truth)\n",
    "\n",
    "print(f\"Otsu Accuracy: {otsu_accuracy * 100:.2f}%\")\n",
    "print(f\"Iterative Accuracy: {iterative_accuracy * 100:.2f}%\")"
   ]
  },
  {
   "cell_type": "code",
   "execution_count": null,
   "id": "04fbdf19-dc6f-4fa6-98e6-f1c2ba34c899",
   "metadata": {},
   "outputs": [],
   "source": []
  }
 ],
 "metadata": {
  "kernelspec": {
   "display_name": "Python 3 (ipykernel)",
   "language": "python",
   "name": "python3"
  },
  "language_info": {
   "codemirror_mode": {
    "name": "ipython",
    "version": 3
   },
   "file_extension": ".py",
   "mimetype": "text/x-python",
   "name": "python",
   "nbconvert_exporter": "python",
   "pygments_lexer": "ipython3",
   "version": "3.9.8"
  }
 },
 "nbformat": 4,
 "nbformat_minor": 5
}

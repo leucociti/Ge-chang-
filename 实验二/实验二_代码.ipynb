{
 "cells": [
  {
   "cell_type": "code",
   "execution_count": 31,
   "id": "68465be7-e850-4bcb-8d82-1f6f0baa90b3",
   "metadata": {},
   "outputs": [],
   "source": [
    "# 比较信噪比未知\n",
    "import cv2\n",
    "import numpy as np\n",
    "\n",
    "image_noisy = cv2.imread('noisy_image.png', cv2.IMREAD_GRAYSCALE)\n",
    "\n",
    "image_autocorr = np.fft.fftshift(np.fft.fft2(image_noisy * image_noisy.conj()))\n",
    "noise_autocorr = np.abs(np.fft.fftshift(np.fft.fft2(image_noisy - np.mean(image_noisy)) * np.fft.fft2(image_noisy - np.mean(image_noisy)).conj()))\n",
    "snr_estimated = np.max(image_autocorr) / np.max(noise_autocorr)\n",
    "\n",
    "def wiener_filter(image, image_autocorr, noise_autocorr, snr_estimated):\n",
    "    image_freq = np.fft.fftshift(np.fft.fft2(image))\n",
    "    wiener_filter = np.conj(image_autocorr) / (image_autocorr + snr_estimated * noise_autocorr)\n",
    "    restored_freq = wiener_filter * image_freq\n",
    "    restored_image = np.real(np.fft.ifft2(np.fft.ifftshift(restored_freq)))\n",
    "    return restored_image\n",
    "\n",
    "restored_image = wiener_filter(image_noisy, image_autocorr, noise_autocorr, snr_estimated)\n",
    "restored_image = np.clip(restored_image, 0, 255).astype(np.uint8)\n",
    "\n",
    "cv2.imshow('Restored Image (Wiener Filter)', restored_image)\n",
    "cv2.waitKey(0)\n",
    "cv2.destroyAllWindows()"
   ]
  },
  {
   "cell_type": "code",
   "execution_count": 32,
   "id": "5e12d5c1-60e6-44be-87c3-355457429681",
   "metadata": {
    "collapsed": true,
    "jupyter": {
     "outputs_hidden": true
    },
    "tags": []
   },
   "outputs": [
    {
     "ename": "IndexError",
     "evalue": "boolean index did not match indexed array along dimension 0; dimension is 440 but corresponding boolean dimension is 466",
     "output_type": "error",
     "traceback": [
      "\u001b[1;31m---------------------------------------------------------------------------\u001b[0m",
      "\u001b[1;31mIndexError\u001b[0m                                Traceback (most recent call last)",
      "Cell \u001b[1;32mIn[32], line 16\u001b[0m\n\u001b[0;32m     14\u001b[0m inverse_filter \u001b[38;5;241m=\u001b[39m np\u001b[38;5;241m.\u001b[39mones((height, width), dtype\u001b[38;5;241m=\u001b[39mnp\u001b[38;5;241m.\u001b[39mcomplex128)\n\u001b[0;32m     15\u001b[0m inverse_filter[np\u001b[38;5;241m.\u001b[39mabs(np\u001b[38;5;241m.\u001b[39mfft\u001b[38;5;241m.\u001b[39mfftshift(np\u001b[38;5;241m.\u001b[39mfft\u001b[38;5;241m.\u001b[39mfftfreq(height, d\u001b[38;5;241m=\u001b[39m\u001b[38;5;241m1.0\u001b[39m\u001b[38;5;241m/\u001b[39mheight))) \u001b[38;5;241m>\u001b[39m cutoff_freq] \u001b[38;5;241m=\u001b[39m \u001b[38;5;241m1e-6\u001b[39m\n\u001b[1;32m---> 16\u001b[0m \u001b[43minverse_filter\u001b[49m\u001b[43m[\u001b[49m\u001b[43mnp\u001b[49m\u001b[38;5;241;43m.\u001b[39;49m\u001b[43mabs\u001b[49m\u001b[43m(\u001b[49m\u001b[43mnp\u001b[49m\u001b[38;5;241;43m.\u001b[39;49m\u001b[43mfft\u001b[49m\u001b[38;5;241;43m.\u001b[39;49m\u001b[43mfftshift\u001b[49m\u001b[43m(\u001b[49m\u001b[43mnp\u001b[49m\u001b[38;5;241;43m.\u001b[39;49m\u001b[43mfft\u001b[49m\u001b[38;5;241;43m.\u001b[39;49m\u001b[43mfftfreq\u001b[49m\u001b[43m(\u001b[49m\u001b[43mwidth\u001b[49m\u001b[43m,\u001b[49m\u001b[43m \u001b[49m\u001b[43md\u001b[49m\u001b[38;5;241;43m=\u001b[39;49m\u001b[38;5;241;43m1.0\u001b[39;49m\u001b[38;5;241;43m/\u001b[39;49m\u001b[43mwidth\u001b[49m\u001b[43m)\u001b[49m\u001b[43m)\u001b[49m\u001b[43m)\u001b[49m\u001b[43m \u001b[49m\u001b[38;5;241;43m>\u001b[39;49m\u001b[43m \u001b[49m\u001b[43mcutoff_freq\u001b[49m\u001b[43m]\u001b[49m \u001b[38;5;241m=\u001b[39m \u001b[38;5;241m1e-6\u001b[39m\n\u001b[0;32m     18\u001b[0m \u001b[38;5;28;01mdef\u001b[39;00m \u001b[38;5;21minverse_filtering\u001b[39m(image, inverse_filter):\n\u001b[0;32m     19\u001b[0m     image_freq \u001b[38;5;241m=\u001b[39m np\u001b[38;5;241m.\u001b[39mfft\u001b[38;5;241m.\u001b[39mfftshift(np\u001b[38;5;241m.\u001b[39mfft\u001b[38;5;241m.\u001b[39mfft2(image))\n",
      "\u001b[1;31mIndexError\u001b[0m: boolean index did not match indexed array along dimension 0; dimension is 440 but corresponding boolean dimension is 466"
     ]
    }
   ],
   "source": [
    "# 信噪比已知\n",
    "import cv2\n",
    "import numpy as np\n",
    "\n",
    "image_noisy = cv2.imread('noisy_image.png', cv2.IMREAD_GRAYSCALE)\n",
    "\n",
    "snr_known = 3.0\n",
    "\n",
    "noise_var = np.var(image_noisy) / (10 ** (snr_known / 10))\n",
    "\n",
    "height, width = image_noisy.shape[:2]\n",
    "\n",
    "cutoff_freq = 70\n",
    "inverse_filter = np.ones((height, width), dtype=np.complex128)\n",
    "inverse_filter[np.abs(np.fft.fftshift(np.fft.fftfreq(height, d=1.0/height))) > cutoff_freq] = 1e-6\n",
    "inverse_filter[np.abs(np.fft.fftshift(np.fft.fftfreq(width, d=1.0/width))) > cutoff_freq] = 1e-6\n",
    "\n",
    "def inverse_filtering(image, inverse_filter):\n",
    "    image_freq = np.fft.fftshift(np.fft.fft2(image))\n",
    "    restored_freq = image_freq * inverse_filter\n",
    "    restored_image = np.real(np.fft.ifft2(np.fft.ifftshift(restored_freq)))\n",
    "    return restored_image\n",
    "\n",
    "restored_image = inverse_filtering(image_noisy, inverse_filter)\n",
    "restored_image = np.clip(restored_image, 0, 255).astype(np.uint8)\n",
    "\n",
    "cv2.imshow('Restored Image (Inverse Filtering)', restored_image)\n",
    "cv2.waitKey(0)\n",
    "cv2.destroyAllWindows()\n"
   ]
  },
  {
   "cell_type": "code",
   "execution_count": 33,
   "id": "cfd4af5b-200a-4c40-b7af-eabb0cf6ec35",
   "metadata": {
    "collapsed": true,
    "jupyter": {
     "outputs_hidden": true
    },
    "tags": []
   },
   "outputs": [
    {
     "ename": "IndexError",
     "evalue": "cannot do a non-empty take from an empty axes.",
     "output_type": "error",
     "traceback": [
      "\u001b[1;31m---------------------------------------------------------------------------\u001b[0m",
      "\u001b[1;31mIndexError\u001b[0m                                Traceback (most recent call last)",
      "Cell \u001b[1;32mIn[33], line 19\u001b[0m\n\u001b[0;32m     17\u001b[0m \u001b[38;5;66;03m# 计算图像和噪声的功率谱密度\u001b[39;00m\n\u001b[0;32m     18\u001b[0m image_psd \u001b[38;5;241m=\u001b[39m np\u001b[38;5;241m.\u001b[39mabs(np\u001b[38;5;241m.\u001b[39mfft\u001b[38;5;241m.\u001b[39mfftshift(np\u001b[38;5;241m.\u001b[39mfft\u001b[38;5;241m.\u001b[39mfft2(image_noisy)))\u001b[38;5;241m*\u001b[39m\u001b[38;5;241m*\u001b[39m\u001b[38;5;241m2\u001b[39m\n\u001b[1;32m---> 19\u001b[0m noise_psd \u001b[38;5;241m=\u001b[39m np\u001b[38;5;241m.\u001b[39mabs(np\u001b[38;5;241m.\u001b[39mfft\u001b[38;5;241m.\u001b[39mfftshift(\u001b[43mnp\u001b[49m\u001b[38;5;241;43m.\u001b[39;49m\u001b[43mfft\u001b[49m\u001b[38;5;241;43m.\u001b[39;49m\u001b[43mfft2\u001b[49m\u001b[43m(\u001b[49m\u001b[43mnoise_autocorr\u001b[49m\u001b[43m)\u001b[49m))\u001b[38;5;241m*\u001b[39m\u001b[38;5;241m*\u001b[39m\u001b[38;5;241m2\u001b[39m\n\u001b[0;32m     21\u001b[0m \u001b[38;5;66;03m# 计算维纳滤波器\u001b[39;00m\n\u001b[0;32m     22\u001b[0m wiener_filter \u001b[38;5;241m=\u001b[39m np\u001b[38;5;241m.\u001b[39mconj(image_psd) \u001b[38;5;241m/\u001b[39m (image_psd \u001b[38;5;241m+\u001b[39m noise_psd \u001b[38;5;241m/\u001b[39m noise_var)\n",
      "File \u001b[1;32m<__array_function__ internals>:5\u001b[0m, in \u001b[0;36mfft2\u001b[1;34m(*args, **kwargs)\u001b[0m\n",
      "File \u001b[1;32mD:\\python\\lib\\site-packages\\numpy\\fft\\_pocketfft.py:944\u001b[0m, in \u001b[0;36mfft2\u001b[1;34m(a, s, axes, norm)\u001b[0m\n\u001b[0;32m    856\u001b[0m \u001b[38;5;129m@array_function_dispatch\u001b[39m(_fftn_dispatcher)\n\u001b[0;32m    857\u001b[0m \u001b[38;5;28;01mdef\u001b[39;00m \u001b[38;5;21mfft2\u001b[39m(a, s\u001b[38;5;241m=\u001b[39m\u001b[38;5;28;01mNone\u001b[39;00m, axes\u001b[38;5;241m=\u001b[39m(\u001b[38;5;241m-\u001b[39m\u001b[38;5;241m2\u001b[39m, \u001b[38;5;241m-\u001b[39m\u001b[38;5;241m1\u001b[39m), norm\u001b[38;5;241m=\u001b[39m\u001b[38;5;28;01mNone\u001b[39;00m):\n\u001b[0;32m    858\u001b[0m \u001b[38;5;250m    \u001b[39m\u001b[38;5;124;03m\"\"\"\u001b[39;00m\n\u001b[0;32m    859\u001b[0m \u001b[38;5;124;03m    Compute the 2-dimensional discrete Fourier Transform\u001b[39;00m\n\u001b[0;32m    860\u001b[0m \n\u001b[1;32m   (...)\u001b[0m\n\u001b[0;32m    941\u001b[0m \n\u001b[0;32m    942\u001b[0m \u001b[38;5;124;03m    \"\"\"\u001b[39;00m\n\u001b[1;32m--> 944\u001b[0m     \u001b[38;5;28;01mreturn\u001b[39;00m \u001b[43m_raw_fftnd\u001b[49m\u001b[43m(\u001b[49m\u001b[43ma\u001b[49m\u001b[43m,\u001b[49m\u001b[43m \u001b[49m\u001b[43ms\u001b[49m\u001b[43m,\u001b[49m\u001b[43m \u001b[49m\u001b[43maxes\u001b[49m\u001b[43m,\u001b[49m\u001b[43m \u001b[49m\u001b[43mfft\u001b[49m\u001b[43m,\u001b[49m\u001b[43m \u001b[49m\u001b[43mnorm\u001b[49m\u001b[43m)\u001b[49m\n",
      "File \u001b[1;32mD:\\python\\lib\\site-packages\\numpy\\fft\\_pocketfft.py:648\u001b[0m, in \u001b[0;36m_raw_fftnd\u001b[1;34m(a, s, axes, function, norm)\u001b[0m\n\u001b[0;32m    646\u001b[0m \u001b[38;5;28;01mdef\u001b[39;00m \u001b[38;5;21m_raw_fftnd\u001b[39m(a, s\u001b[38;5;241m=\u001b[39m\u001b[38;5;28;01mNone\u001b[39;00m, axes\u001b[38;5;241m=\u001b[39m\u001b[38;5;28;01mNone\u001b[39;00m, function\u001b[38;5;241m=\u001b[39mfft, norm\u001b[38;5;241m=\u001b[39m\u001b[38;5;28;01mNone\u001b[39;00m):\n\u001b[0;32m    647\u001b[0m     a \u001b[38;5;241m=\u001b[39m asarray(a)\n\u001b[1;32m--> 648\u001b[0m     s, axes \u001b[38;5;241m=\u001b[39m \u001b[43m_cook_nd_args\u001b[49m\u001b[43m(\u001b[49m\u001b[43ma\u001b[49m\u001b[43m,\u001b[49m\u001b[43m \u001b[49m\u001b[43ms\u001b[49m\u001b[43m,\u001b[49m\u001b[43m \u001b[49m\u001b[43maxes\u001b[49m\u001b[43m)\u001b[49m\n\u001b[0;32m    649\u001b[0m     itl \u001b[38;5;241m=\u001b[39m \u001b[38;5;28mlist\u001b[39m(\u001b[38;5;28mrange\u001b[39m(\u001b[38;5;28mlen\u001b[39m(axes)))\n\u001b[0;32m    650\u001b[0m     itl\u001b[38;5;241m.\u001b[39mreverse()\n",
      "File \u001b[1;32mD:\\python\\lib\\site-packages\\numpy\\fft\\_pocketfft.py:633\u001b[0m, in \u001b[0;36m_cook_nd_args\u001b[1;34m(a, s, axes, invreal)\u001b[0m\n\u001b[0;32m    631\u001b[0m         s \u001b[38;5;241m=\u001b[39m \u001b[38;5;28mlist\u001b[39m(a\u001b[38;5;241m.\u001b[39mshape)\n\u001b[0;32m    632\u001b[0m     \u001b[38;5;28;01melse\u001b[39;00m:\n\u001b[1;32m--> 633\u001b[0m         s \u001b[38;5;241m=\u001b[39m \u001b[43mtake\u001b[49m\u001b[43m(\u001b[49m\u001b[43ma\u001b[49m\u001b[38;5;241;43m.\u001b[39;49m\u001b[43mshape\u001b[49m\u001b[43m,\u001b[49m\u001b[43m \u001b[49m\u001b[43maxes\u001b[49m\u001b[43m)\u001b[49m\n\u001b[0;32m    634\u001b[0m \u001b[38;5;28;01melse\u001b[39;00m:\n\u001b[0;32m    635\u001b[0m     shapeless \u001b[38;5;241m=\u001b[39m \u001b[38;5;241m0\u001b[39m\n",
      "File \u001b[1;32m<__array_function__ internals>:5\u001b[0m, in \u001b[0;36mtake\u001b[1;34m(*args, **kwargs)\u001b[0m\n",
      "File \u001b[1;32mD:\\python\\lib\\site-packages\\numpy\\core\\fromnumeric.py:191\u001b[0m, in \u001b[0;36mtake\u001b[1;34m(a, indices, axis, out, mode)\u001b[0m\n\u001b[0;32m     94\u001b[0m \u001b[38;5;129m@array_function_dispatch\u001b[39m(_take_dispatcher)\n\u001b[0;32m     95\u001b[0m \u001b[38;5;28;01mdef\u001b[39;00m \u001b[38;5;21mtake\u001b[39m(a, indices, axis\u001b[38;5;241m=\u001b[39m\u001b[38;5;28;01mNone\u001b[39;00m, out\u001b[38;5;241m=\u001b[39m\u001b[38;5;28;01mNone\u001b[39;00m, mode\u001b[38;5;241m=\u001b[39m\u001b[38;5;124m'\u001b[39m\u001b[38;5;124mraise\u001b[39m\u001b[38;5;124m'\u001b[39m):\n\u001b[0;32m     96\u001b[0m \u001b[38;5;250m    \u001b[39m\u001b[38;5;124;03m\"\"\"\u001b[39;00m\n\u001b[0;32m     97\u001b[0m \u001b[38;5;124;03m    Take elements from an array along an axis.\u001b[39;00m\n\u001b[0;32m     98\u001b[0m \n\u001b[1;32m   (...)\u001b[0m\n\u001b[0;32m    189\u001b[0m \u001b[38;5;124;03m           [5, 7]])\u001b[39;00m\n\u001b[0;32m    190\u001b[0m \u001b[38;5;124;03m    \"\"\"\u001b[39;00m\n\u001b[1;32m--> 191\u001b[0m     \u001b[38;5;28;01mreturn\u001b[39;00m \u001b[43m_wrapfunc\u001b[49m\u001b[43m(\u001b[49m\u001b[43ma\u001b[49m\u001b[43m,\u001b[49m\u001b[43m \u001b[49m\u001b[38;5;124;43m'\u001b[39;49m\u001b[38;5;124;43mtake\u001b[39;49m\u001b[38;5;124;43m'\u001b[39;49m\u001b[43m,\u001b[49m\u001b[43m \u001b[49m\u001b[43mindices\u001b[49m\u001b[43m,\u001b[49m\u001b[43m \u001b[49m\u001b[43maxis\u001b[49m\u001b[38;5;241;43m=\u001b[39;49m\u001b[43maxis\u001b[49m\u001b[43m,\u001b[49m\u001b[43m \u001b[49m\u001b[43mout\u001b[49m\u001b[38;5;241;43m=\u001b[39;49m\u001b[43mout\u001b[49m\u001b[43m,\u001b[49m\u001b[43m \u001b[49m\u001b[43mmode\u001b[49m\u001b[38;5;241;43m=\u001b[39;49m\u001b[43mmode\u001b[49m\u001b[43m)\u001b[49m\n",
      "File \u001b[1;32mD:\\python\\lib\\site-packages\\numpy\\core\\fromnumeric.py:55\u001b[0m, in \u001b[0;36m_wrapfunc\u001b[1;34m(obj, method, *args, **kwds)\u001b[0m\n\u001b[0;32m     53\u001b[0m bound \u001b[38;5;241m=\u001b[39m \u001b[38;5;28mgetattr\u001b[39m(obj, method, \u001b[38;5;28;01mNone\u001b[39;00m)\n\u001b[0;32m     54\u001b[0m \u001b[38;5;28;01mif\u001b[39;00m bound \u001b[38;5;129;01mis\u001b[39;00m \u001b[38;5;28;01mNone\u001b[39;00m:\n\u001b[1;32m---> 55\u001b[0m     \u001b[38;5;28;01mreturn\u001b[39;00m _wrapit(obj, method, \u001b[38;5;241m*\u001b[39margs, \u001b[38;5;241m*\u001b[39m\u001b[38;5;241m*\u001b[39mkwds)\n\u001b[0;32m     57\u001b[0m \u001b[38;5;28;01mtry\u001b[39;00m:\n\u001b[0;32m     58\u001b[0m     \u001b[38;5;28;01mreturn\u001b[39;00m bound(\u001b[38;5;241m*\u001b[39margs, \u001b[38;5;241m*\u001b[39m\u001b[38;5;241m*\u001b[39mkwds)\n",
      "File \u001b[1;32mD:\\python\\lib\\site-packages\\numpy\\core\\fromnumeric.py:44\u001b[0m, in \u001b[0;36m_wrapit\u001b[1;34m(obj, method, *args, **kwds)\u001b[0m\n\u001b[0;32m     42\u001b[0m \u001b[38;5;28;01mexcept\u001b[39;00m \u001b[38;5;167;01mAttributeError\u001b[39;00m:\n\u001b[0;32m     43\u001b[0m     wrap \u001b[38;5;241m=\u001b[39m \u001b[38;5;28;01mNone\u001b[39;00m\n\u001b[1;32m---> 44\u001b[0m result \u001b[38;5;241m=\u001b[39m \u001b[38;5;28mgetattr\u001b[39m(asarray(obj), method)(\u001b[38;5;241m*\u001b[39margs, \u001b[38;5;241m*\u001b[39m\u001b[38;5;241m*\u001b[39mkwds)\n\u001b[0;32m     45\u001b[0m \u001b[38;5;28;01mif\u001b[39;00m wrap:\n\u001b[0;32m     46\u001b[0m     \u001b[38;5;28;01mif\u001b[39;00m \u001b[38;5;129;01mnot\u001b[39;00m \u001b[38;5;28misinstance\u001b[39m(result, mu\u001b[38;5;241m.\u001b[39mndarray):\n",
      "\u001b[1;31mIndexError\u001b[0m: cannot do a non-empty take from an empty axes."
     ]
    }
   ],
   "source": [
    "#图像和噪声自相关函数已知\n",
    "import cv2\n",
    "import numpy as np\n",
    "from scipy.signal import fftconvolve\n",
    "\n",
    "image_noisy = cv2.imread('noisy_image.png', cv2.IMREAD_GRAYSCALE)\n",
    "\n",
    "noise_autocorr = cv2.imread('noise_autocorr.png', cv2.IMREAD_GRAYSCALE)\n",
    "\n",
    "snr_known = 3.0\n",
    "\n",
    "noise_var = np.var(image_noisy) / (3 ** (snr_known / 3))\n",
    "\n",
    "image_psd = np.abs(np.fft.fftshift(np.fft.fft2(image_noisy)))**2\n",
    "noise_psd = np.abs(np.fft.fftshift(np.fft.fft2(noise_autocorr)))**2\n",
    "\n",
    "wiener_filter = np.conj(image_psd) / (image_psd + noise_psd / noise_var)\n",
    "\n",
    "def wiener_filtering(image, wiener_filter):\n",
    "    image_freq = np.fft.fftshift(np.fft.fft2(image))\n",
    "    restored_freq = wiener_filter * image_freq\n",
    "    restored_image = np.real(np.fft.ifft2(np.fft.ifftshift(restored_freq)))\n",
    "    return restored_image\n",
    "\n",
    "restored_image = wiener_filtering(image_noisy, wiener_filter)\n",
    "restored_image = np.clip(restored_image, 0, 255).astype(np.uint8)\n",
    "\n",
    "cv2.imshow('Restored Image (Wiener Filter)', restored_image)\n",
    "cv2.waitKey(0)\n",
    "cv2.destroyAllWindows()"
   ]
  },
  {
   "cell_type": "code",
   "execution_count": null,
   "id": "4a19d88c-f369-4ffc-9af6-2c81bd1fbde8",
   "metadata": {},
   "outputs": [],
   "source": []
  }
 ],
 "metadata": {
  "kernelspec": {
   "display_name": "Python 3 (ipykernel)",
   "language": "python",
   "name": "python3"
  },
  "language_info": {
   "codemirror_mode": {
    "name": "ipython",
    "version": 3
   },
   "file_extension": ".py",
   "mimetype": "text/x-python",
   "name": "python",
   "nbconvert_exporter": "python",
   "pygments_lexer": "ipython3",
   "version": "3.9.8"
  }
 },
 "nbformat": 4,
 "nbformat_minor": 5
}
